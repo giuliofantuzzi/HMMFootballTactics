{
 "cells": [
  {
   "cell_type": "markdown",
   "metadata": {},
   "source": [
    "# Data cleaning"
   ]
  },
  {
   "cell_type": "code",
   "execution_count": 1,
   "metadata": {},
   "outputs": [],
   "source": [
    "import sys\n",
    "sys.path.append('utils/')\n",
    "import pandas as pd\n",
    "import numpy as np\n",
    "from utils import Metrica_IO as mio\n",
    "from scipy.spatial import ConvexHull\n",
    "from tqdm import trange"
   ]
  },
  {
   "cell_type": "markdown",
   "metadata": {},
   "source": [
    "Import the datasets:"
   ]
  },
  {
   "cell_type": "code",
   "execution_count": 2,
   "metadata": {},
   "outputs": [
    {
     "name": "stdout",
     "output_type": "stream",
     "text": [
      "Reading team: home\n",
      "Reading team: away\n"
     ]
    }
   ],
   "source": [
    "DATA_DIR = 'data/'\n",
    "game_id = 2\n",
    "home_xy, away_xy, events = mio.read_match_data(DATA_DIR, game_id)"
   ]
  },
  {
   "cell_type": "markdown",
   "metadata": {},
   "source": [
    "Consider the dataset *events*. The condition `Type`=*SET PIECE* identifies a moment in which the game restart after a stop (kick-in after the ball exits from the pitch, or the kick-off after a goal). Thus, we seek to remove all the frames corresponding to \"dead\" moments preceding a set piece."
   ]
  },
  {
   "cell_type": "code",
   "execution_count": 3,
   "metadata": {},
   "outputs": [],
   "source": [
    "# Indexes of the rows where the set pieces start\n",
    "index_list = events.loc[events['Type'] == 'SET PIECE'].index.to_list()\n",
    "# We need of course the indexes of the events preceding the set pieces!\n",
    "index_list.extend([index_list[i] -1 for i in range(1, len(index_list))])\n",
    "sorted_index_list = sorted(index_list)[1:]"
   ]
  },
  {
   "cell_type": "markdown",
   "metadata": {},
   "source": [
    "We now define an empty list that will store the frames to be discarded:"
   ]
  },
  {
   "cell_type": "code",
   "execution_count": 4,
   "metadata": {},
   "outputs": [
    {
     "name": "stdout",
     "output_type": "stream",
     "text": [
      "Frames to remove (dead moments before SET PIECES)--> 42074\n"
     ]
    }
   ],
   "source": [
    "frames_to_remove = []\n",
    "for i in sorted_index_list[::2]:\n",
    "    frames_to_remove.extend(list(range(events['End Frame'][i], events['Start Frame'][i+1])))\n",
    "print(\"Frames to remove (dead moments before SET PIECES)-->\",len(frames_to_remove))"
   ]
  },
  {
   "cell_type": "markdown",
   "metadata": {},
   "source": [
    "Now we discard the frames associated to dead moments between an infraction and the moment in which the ref extracts the card\n",
    "\n",
    "*Note*: the reasoning is exactly the same done for the set pieces!"
   ]
  },
  {
   "cell_type": "code",
   "execution_count": 5,
   "metadata": {},
   "outputs": [],
   "source": [
    "card_list = events.loc[events['Type'] == 'CARD'].index.to_list()\n",
    "card_list.extend([card_list[i] -1 for i in range(0, len(card_list))])\n",
    "sorted_card_list = sorted(card_list)[:]"
   ]
  },
  {
   "cell_type": "code",
   "execution_count": 6,
   "metadata": {},
   "outputs": [
    {
     "name": "stdout",
     "output_type": "stream",
     "text": [
      "Frames to remove (dead moments before SET PIECES and before CARDS)--> 44508\n"
     ]
    }
   ],
   "source": [
    "for i in sorted_card_list[::2]:\n",
    "    frames_to_remove.extend(list(range(events['End Frame'][i], events['Start Frame'][i+1])))\n",
    "print(\"Frames to remove (dead moments before SET PIECES and before CARDS)-->\",len(frames_to_remove))"
   ]
  },
  {
   "cell_type": "markdown",
   "metadata": {},
   "source": [
    "Trick to remove potential duplicates:"
   ]
  },
  {
   "cell_type": "code",
   "execution_count": 8,
   "metadata": {},
   "outputs": [
    {
     "data": {
      "text/plain": [
       "44508"
      ]
     },
     "execution_count": 8,
     "metadata": {},
     "output_type": "execute_result"
    }
   ],
   "source": [
    "frames_to_remove = list(set(frames_to_remove))\n",
    "len(frames_to_remove)"
   ]
  },
  {
   "cell_type": "markdown",
   "metadata": {},
   "source": [
    "We also remove the frames preceding the effective beginning of the match:"
   ]
  },
  {
   "cell_type": "code",
   "execution_count": 3,
   "metadata": {},
   "outputs": [],
   "source": [
    "# Start from the kick off\n",
    "home_xy=home_xy[50:]\n",
    "away_xy=away_xy[50:]"
   ]
  },
  {
   "cell_type": "markdown",
   "metadata": {},
   "source": [
    "Now that we cleaned up the frames, we can convert the coordinates to the same reference system of the pitch:"
   ]
  },
  {
   "cell_type": "code",
   "execution_count": 4,
   "metadata": {},
   "outputs": [],
   "source": [
    "home_xy=mio.to_metric_coordinates(home_xy)\n",
    "away_xy=mio.to_metric_coordinates(away_xy)\n",
    "events=mio.to_metric_coordinates(events)"
   ]
  },
  {
   "cell_type": "code",
   "execution_count": 5,
   "metadata": {},
   "outputs": [],
   "source": [
    "home_xy.to_csv(\"data/home_xy.csv\",index=False)"
   ]
  },
  {
   "cell_type": "code",
   "execution_count": 6,
   "metadata": {},
   "outputs": [],
   "source": [
    "away_xy.to_csv(\"data/away_xy.csv\",index=False)"
   ]
  },
  {
   "cell_type": "markdown",
   "metadata": {},
   "source": [
    "# Convex Hulls"
   ]
  },
  {
   "cell_type": "markdown",
   "metadata": {},
   "source": [
    "For each dataframe we compute the area of the convex hull identified by the players of each team"
   ]
  },
  {
   "cell_type": "code",
   "execution_count": 12,
   "metadata": {},
   "outputs": [
    {
     "name": "stderr",
     "output_type": "stream",
     "text": [
      "Convex Hulls estimation:: 100%|██████████| 96598/96598 [01:58<00:00, 812.78it/s] \n"
     ]
    }
   ],
   "source": [
    "hulls_df=pd.DataFrame(columns=['Period','Frame','Time [s]','HomeHull','AwayHull'])\n",
    "for frame in trange(home_xy.shape[0],desc=\"Convex Hulls estimation:\"):\n",
    "    time=home_xy.iloc[frame,:]['Time [s]']\n",
    "    period=home_xy.iloc[frame,:]['Period']\n",
    "    home_data=home_xy.iloc[frame,:]\n",
    "    away_data=away_xy.iloc[frame,:]\n",
    "    home_data=home_data.dropna()\n",
    "    away_data=away_data.dropna()\n",
    "    ball=np.array(home_data[-2:])\n",
    "    home_data= home_data[4:-2] #exclude both the goalkeeper and the ball\n",
    "    away_data= away_data[4:-2] #exclude both the goalkeeper and the ball\n",
    "    #--------------------------------------------------------------------\n",
    "    # divide x and y\n",
    "    home_data_x=home_data[home_data.index.str.contains('_x')]\n",
    "    home_data_y=home_data[home_data.index.str.contains('_y')]\n",
    "    away_data_x=away_data[away_data.index.str.contains('_x')]\n",
    "    away_data_y=away_data[away_data.index.str.contains('_y')]\n",
    "    #--------------------------------------------------------------------\n",
    "    # Coordinates\n",
    "    home_pts= np.array([[x,y] for x,y in zip(home_data_x,home_data_y)])\n",
    "    away_pts= np.array([[x,y] for x,y in zip(away_data_x,away_data_y)])\n",
    "    # Compute the convex hulls\n",
    "    home_hull=ConvexHull(home_pts)\n",
    "    away_hull=ConvexHull(away_pts)\n",
    "    # Compute the area of the convex hulls\n",
    "    home_area=home_hull.volume\n",
    "    away_area=away_hull.volume\n",
    "    \n",
    "    hulls_df.loc[frame]=[period,frame,time,home_area,away_area]\n",
    "    \n",
    "hulls_df.to_csv('data/hulls_df_matchday2.csv',index=False)"
   ]
  },
  {
   "cell_type": "markdown",
   "metadata": {},
   "source": [
    "Code to make a gif for a range of frames:"
   ]
  },
  {
   "cell_type": "markdown",
   "metadata": {},
   "source": [
    "# Grouping frames to reduce dimensionality"
   ]
  },
  {
   "cell_type": "code",
   "execution_count": 26,
   "metadata": {},
   "outputs": [
    {
     "data": {
      "text/html": [
       "<div>\n",
       "<style scoped>\n",
       "    .dataframe tbody tr th:only-of-type {\n",
       "        vertical-align: middle;\n",
       "    }\n",
       "\n",
       "    .dataframe tbody tr th {\n",
       "        vertical-align: top;\n",
       "    }\n",
       "\n",
       "    .dataframe thead th {\n",
       "        text-align: right;\n",
       "    }\n",
       "</style>\n",
       "<table border=\"1\" class=\"dataframe\">\n",
       "  <thead>\n",
       "    <tr style=\"text-align: right;\">\n",
       "      <th></th>\n",
       "      <th>Period</th>\n",
       "      <th>Frame</th>\n",
       "      <th>Time [s]</th>\n",
       "      <th>HomeHull</th>\n",
       "      <th>AwayHull</th>\n",
       "    </tr>\n",
       "  </thead>\n",
       "  <tbody>\n",
       "    <tr>\n",
       "      <th>0</th>\n",
       "      <td>1.0</td>\n",
       "      <td>0.0</td>\n",
       "      <td>2.04</td>\n",
       "      <td>580.876874</td>\n",
       "      <td>782.477901</td>\n",
       "    </tr>\n",
       "    <tr>\n",
       "      <th>1</th>\n",
       "      <td>1.0</td>\n",
       "      <td>1.0</td>\n",
       "      <td>2.08</td>\n",
       "      <td>581.116770</td>\n",
       "      <td>782.804969</td>\n",
       "    </tr>\n",
       "    <tr>\n",
       "      <th>2</th>\n",
       "      <td>1.0</td>\n",
       "      <td>2.0</td>\n",
       "      <td>2.12</td>\n",
       "      <td>581.348315</td>\n",
       "      <td>783.177048</td>\n",
       "    </tr>\n",
       "    <tr>\n",
       "      <th>3</th>\n",
       "      <td>1.0</td>\n",
       "      <td>3.0</td>\n",
       "      <td>2.16</td>\n",
       "      <td>581.702889</td>\n",
       "      <td>783.361684</td>\n",
       "    </tr>\n",
       "    <tr>\n",
       "      <th>4</th>\n",
       "      <td>1.0</td>\n",
       "      <td>4.0</td>\n",
       "      <td>2.20</td>\n",
       "      <td>582.074936</td>\n",
       "      <td>783.558528</td>\n",
       "    </tr>\n",
       "    <tr>\n",
       "      <th>5</th>\n",
       "      <td>1.0</td>\n",
       "      <td>5.0</td>\n",
       "      <td>2.24</td>\n",
       "      <td>582.443186</td>\n",
       "      <td>783.839906</td>\n",
       "    </tr>\n",
       "    <tr>\n",
       "      <th>6</th>\n",
       "      <td>1.0</td>\n",
       "      <td>6.0</td>\n",
       "      <td>2.28</td>\n",
       "      <td>582.874884</td>\n",
       "      <td>784.179156</td>\n",
       "    </tr>\n",
       "    <tr>\n",
       "      <th>7</th>\n",
       "      <td>1.0</td>\n",
       "      <td>7.0</td>\n",
       "      <td>2.32</td>\n",
       "      <td>583.252112</td>\n",
       "      <td>784.663064</td>\n",
       "    </tr>\n",
       "    <tr>\n",
       "      <th>8</th>\n",
       "      <td>1.0</td>\n",
       "      <td>8.0</td>\n",
       "      <td>2.36</td>\n",
       "      <td>583.638331</td>\n",
       "      <td>785.343671</td>\n",
       "    </tr>\n",
       "    <tr>\n",
       "      <th>9</th>\n",
       "      <td>1.0</td>\n",
       "      <td>9.0</td>\n",
       "      <td>2.40</td>\n",
       "      <td>584.099468</td>\n",
       "      <td>786.090308</td>\n",
       "    </tr>\n",
       "  </tbody>\n",
       "</table>\n",
       "</div>"
      ],
      "text/plain": [
       "   Period  Frame  Time [s]    HomeHull    AwayHull\n",
       "0     1.0    0.0      2.04  580.876874  782.477901\n",
       "1     1.0    1.0      2.08  581.116770  782.804969\n",
       "2     1.0    2.0      2.12  581.348315  783.177048\n",
       "3     1.0    3.0      2.16  581.702889  783.361684\n",
       "4     1.0    4.0      2.20  582.074936  783.558528\n",
       "5     1.0    5.0      2.24  582.443186  783.839906\n",
       "6     1.0    6.0      2.28  582.874884  784.179156\n",
       "7     1.0    7.0      2.32  583.252112  784.663064\n",
       "8     1.0    8.0      2.36  583.638331  785.343671\n",
       "9     1.0    9.0      2.40  584.099468  786.090308"
      ]
     },
     "execution_count": 26,
     "metadata": {},
     "output_type": "execute_result"
    }
   ],
   "source": [
    "hulls_df.head(10)"
   ]
  },
  {
   "cell_type": "code",
   "execution_count": 27,
   "metadata": {},
   "outputs": [
    {
     "data": {
      "text/plain": [
       "(96598, 5)"
      ]
     },
     "execution_count": 27,
     "metadata": {},
     "output_type": "execute_result"
    }
   ],
   "source": [
    "hulls_df.shape"
   ]
  },
  {
   "cell_type": "markdown",
   "metadata": {},
   "source": [
    "We group the frames belonging to the same second"
   ]
  },
  {
   "cell_type": "code",
   "execution_count": 28,
   "metadata": {},
   "outputs": [],
   "source": [
    "hulls_df[\"Time [s]\"]=np.floor(hulls_df[\"Time [s]\"])"
   ]
  },
  {
   "cell_type": "code",
   "execution_count": 29,
   "metadata": {},
   "outputs": [
    {
     "data": {
      "text/html": [
       "<div>\n",
       "<style scoped>\n",
       "    .dataframe tbody tr th:only-of-type {\n",
       "        vertical-align: middle;\n",
       "    }\n",
       "\n",
       "    .dataframe tbody tr th {\n",
       "        vertical-align: top;\n",
       "    }\n",
       "\n",
       "    .dataframe thead th {\n",
       "        text-align: right;\n",
       "    }\n",
       "</style>\n",
       "<table border=\"1\" class=\"dataframe\">\n",
       "  <thead>\n",
       "    <tr style=\"text-align: right;\">\n",
       "      <th></th>\n",
       "      <th>Time [s]</th>\n",
       "      <th>Period</th>\n",
       "      <th>HomeHull</th>\n",
       "      <th>AwayHull</th>\n",
       "    </tr>\n",
       "  </thead>\n",
       "  <tbody>\n",
       "    <tr>\n",
       "      <th>0</th>\n",
       "      <td>2.0</td>\n",
       "      <td>1.0</td>\n",
       "      <td>586.134796</td>\n",
       "      <td>789.332167</td>\n",
       "    </tr>\n",
       "    <tr>\n",
       "      <th>1</th>\n",
       "      <td>3.0</td>\n",
       "      <td>1.0</td>\n",
       "      <td>610.435976</td>\n",
       "      <td>831.996092</td>\n",
       "    </tr>\n",
       "    <tr>\n",
       "      <th>2</th>\n",
       "      <td>4.0</td>\n",
       "      <td>1.0</td>\n",
       "      <td>642.984305</td>\n",
       "      <td>917.031595</td>\n",
       "    </tr>\n",
       "    <tr>\n",
       "      <th>3</th>\n",
       "      <td>5.0</td>\n",
       "      <td>1.0</td>\n",
       "      <td>651.063432</td>\n",
       "      <td>972.127810</td>\n",
       "    </tr>\n",
       "    <tr>\n",
       "      <th>4</th>\n",
       "      <td>6.0</td>\n",
       "      <td>1.0</td>\n",
       "      <td>667.510469</td>\n",
       "      <td>1036.001978</td>\n",
       "    </tr>\n",
       "    <tr>\n",
       "      <th>5</th>\n",
       "      <td>7.0</td>\n",
       "      <td>1.0</td>\n",
       "      <td>669.921617</td>\n",
       "      <td>1087.138392</td>\n",
       "    </tr>\n",
       "    <tr>\n",
       "      <th>6</th>\n",
       "      <td>8.0</td>\n",
       "      <td>1.0</td>\n",
       "      <td>657.239068</td>\n",
       "      <td>1174.089487</td>\n",
       "    </tr>\n",
       "    <tr>\n",
       "      <th>7</th>\n",
       "      <td>9.0</td>\n",
       "      <td>1.0</td>\n",
       "      <td>658.414797</td>\n",
       "      <td>1298.943735</td>\n",
       "    </tr>\n",
       "    <tr>\n",
       "      <th>8</th>\n",
       "      <td>10.0</td>\n",
       "      <td>1.0</td>\n",
       "      <td>672.590132</td>\n",
       "      <td>1420.388919</td>\n",
       "    </tr>\n",
       "    <tr>\n",
       "      <th>9</th>\n",
       "      <td>11.0</td>\n",
       "      <td>1.0</td>\n",
       "      <td>696.095962</td>\n",
       "      <td>1519.930379</td>\n",
       "    </tr>\n",
       "  </tbody>\n",
       "</table>\n",
       "</div>"
      ],
      "text/plain": [
       "   Time [s]  Period    HomeHull     AwayHull\n",
       "0       2.0     1.0  586.134796   789.332167\n",
       "1       3.0     1.0  610.435976   831.996092\n",
       "2       4.0     1.0  642.984305   917.031595\n",
       "3       5.0     1.0  651.063432   972.127810\n",
       "4       6.0     1.0  667.510469  1036.001978\n",
       "5       7.0     1.0  669.921617  1087.138392\n",
       "6       8.0     1.0  657.239068  1174.089487\n",
       "7       9.0     1.0  658.414797  1298.943735\n",
       "8      10.0     1.0  672.590132  1420.388919\n",
       "9      11.0     1.0  696.095962  1519.930379"
      ]
     },
     "execution_count": 29,
     "metadata": {},
     "output_type": "execute_result"
    }
   ],
   "source": [
    "hulls_df_compact=hulls_df.loc[:,[\"Period\",\"Time [s]\",\"HomeHull\",\"AwayHull\"]].groupby(\"Time [s]\").mean().reset_index()\n",
    "hulls_df_compact.head(10)"
   ]
  },
  {
   "cell_type": "markdown",
   "metadata": {},
   "source": [
    "After some analysis, we decided to group the frames every 2 seconds:"
   ]
  },
  {
   "cell_type": "code",
   "execution_count": 30,
   "metadata": {},
   "outputs": [],
   "source": [
    "hulls_df_reduced= pd.DataFrame(columns=['Time [s]','Period','HomeHull','AwayHull'])\n",
    "for row in range(0,hulls_df_compact.shape[0],2):\n",
    "    time= hulls_df_compact.loc[row,\"Time [s]\"]\n",
    "    period= hulls_df_compact.loc[row,\"Period\"]\n",
    "    home= hulls_df_compact.loc[row:row+1,\"HomeHull\"].mean()\n",
    "    away= hulls_df_compact.loc[row:row+1,\"AwayHull\"].mean()\n",
    "    hulls_df_reduced.loc[row]=[time,period,home,away]"
   ]
  },
  {
   "cell_type": "code",
   "execution_count": 31,
   "metadata": {},
   "outputs": [
    {
     "data": {
      "text/html": [
       "<div>\n",
       "<style scoped>\n",
       "    .dataframe tbody tr th:only-of-type {\n",
       "        vertical-align: middle;\n",
       "    }\n",
       "\n",
       "    .dataframe tbody tr th {\n",
       "        vertical-align: top;\n",
       "    }\n",
       "\n",
       "    .dataframe thead th {\n",
       "        text-align: right;\n",
       "    }\n",
       "</style>\n",
       "<table border=\"1\" class=\"dataframe\">\n",
       "  <thead>\n",
       "    <tr style=\"text-align: right;\">\n",
       "      <th></th>\n",
       "      <th>Time [s]</th>\n",
       "      <th>Period</th>\n",
       "      <th>HomeHull</th>\n",
       "      <th>AwayHull</th>\n",
       "    </tr>\n",
       "  </thead>\n",
       "  <tbody>\n",
       "    <tr>\n",
       "      <th>0</th>\n",
       "      <td>2.0</td>\n",
       "      <td>1.0</td>\n",
       "      <td>598.285386</td>\n",
       "      <td>810.664130</td>\n",
       "    </tr>\n",
       "    <tr>\n",
       "      <th>2</th>\n",
       "      <td>4.0</td>\n",
       "      <td>1.0</td>\n",
       "      <td>647.023869</td>\n",
       "      <td>944.579702</td>\n",
       "    </tr>\n",
       "    <tr>\n",
       "      <th>4</th>\n",
       "      <td>6.0</td>\n",
       "      <td>1.0</td>\n",
       "      <td>668.716043</td>\n",
       "      <td>1061.570185</td>\n",
       "    </tr>\n",
       "    <tr>\n",
       "      <th>6</th>\n",
       "      <td>8.0</td>\n",
       "      <td>1.0</td>\n",
       "      <td>657.826932</td>\n",
       "      <td>1236.516611</td>\n",
       "    </tr>\n",
       "    <tr>\n",
       "      <th>8</th>\n",
       "      <td>10.0</td>\n",
       "      <td>1.0</td>\n",
       "      <td>684.343047</td>\n",
       "      <td>1470.159649</td>\n",
       "    </tr>\n",
       "  </tbody>\n",
       "</table>\n",
       "</div>"
      ],
      "text/plain": [
       "   Time [s]  Period    HomeHull     AwayHull\n",
       "0       2.0     1.0  598.285386   810.664130\n",
       "2       4.0     1.0  647.023869   944.579702\n",
       "4       6.0     1.0  668.716043  1061.570185\n",
       "6       8.0     1.0  657.826932  1236.516611\n",
       "8      10.0     1.0  684.343047  1470.159649"
      ]
     },
     "execution_count": 31,
     "metadata": {},
     "output_type": "execute_result"
    }
   ],
   "source": [
    "hulls_df_reduced.head()"
   ]
  },
  {
   "cell_type": "code",
   "execution_count": 32,
   "metadata": {},
   "outputs": [],
   "source": [
    "hulls_df_reduced.to_csv(\"data/hulls_df_matchday2_reduced.csv\",index=False)"
   ]
  }
 ],
 "metadata": {
  "kernelspec": {
   "display_name": "dl",
   "language": "python",
   "name": "python3"
  },
  "language_info": {
   "codemirror_mode": {
    "name": "ipython",
    "version": 3
   },
   "file_extension": ".py",
   "mimetype": "text/x-python",
   "name": "python",
   "nbconvert_exporter": "python",
   "pygments_lexer": "ipython3",
   "version": "3.12.1"
  }
 },
 "nbformat": 4,
 "nbformat_minor": 2
}

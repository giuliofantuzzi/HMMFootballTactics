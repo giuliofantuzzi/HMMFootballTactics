{
 "cells": [
  {
   "cell_type": "markdown",
   "metadata": {},
   "source": [
    "# Variational Inference"
   ]
  },
  {
   "cell_type": "markdown",
   "metadata": {},
   "source": [
    "Libraries:"
   ]
  },
  {
   "cell_type": "code",
   "execution_count": 2,
   "metadata": {},
   "outputs": [],
   "source": [
    "import torch\n",
    "import pandas as pd\n",
    "from models.UnivariateHMM import UnivariateHMM\n",
    "from models.CopulaHMM import CopulaHMM"
   ]
  },
  {
   "cell_type": "markdown",
   "metadata": {},
   "source": [
    "Global variables:"
   ]
  },
  {
   "cell_type": "code",
   "execution_count": 3,
   "metadata": {},
   "outputs": [],
   "source": [
    "DATA_DIR=\"data/\"\n",
    "HIDDEN_STATES = 2\n",
    "TRAINING_STEPS= 400"
   ]
  },
  {
   "cell_type": "markdown",
   "metadata": {},
   "source": [
    "Import data:"
   ]
  },
  {
   "cell_type": "code",
   "execution_count": 4,
   "metadata": {},
   "outputs": [],
   "source": [
    "data = pd.read_csv(f\"{DATA_DIR}hulls_df_matchday2_reduced.csv\")\n",
    "data = data.dropna()\n",
    "data.head()\n",
    "sequence_XY = torch.tensor(data[[\"HomeHull\",\"AwayHull\"]].values/100)"
   ]
  },
  {
   "cell_type": "markdown",
   "metadata": {},
   "source": [
    "## Bivariate independent model"
   ]
  },
  {
   "cell_type": "markdown",
   "metadata": {},
   "source": [
    "Home Team"
   ]
  },
  {
   "cell_type": "code",
   "execution_count": 4,
   "metadata": {},
   "outputs": [
    {
     "name": "stderr",
     "output_type": "stream",
     "text": [
      "100%|██████████| 400/400 [07:30<00:00,  1.13s/it, LOSS=4.5e+3] \n"
     ]
    }
   ],
   "source": [
    "UnivariateModel_Home = UnivariateHMM(hidden_states=HIDDEN_STATES)\n",
    "UnivariateModel_Home.fit(sequence_XY[:,0],TRAINING_STEPS)"
   ]
  },
  {
   "cell_type": "code",
   "execution_count": 5,
   "metadata": {},
   "outputs": [
    {
     "name": "stdout",
     "output_type": "stream",
     "text": [
      "--------------------------------------------------------------------\n",
      "STATE 0:\n",
      ">> Mean of the Convex Hull : 1048.53 m^2\n",
      ">> Std of the Convex Hull  : 286.83 m^2\n",
      "--------------------------------------------------------------------\n",
      "STATE 1:\n",
      ">> Mean of the Convex Hull : 601.48 m^2\n",
      ">> Std of the Convex Hull  : 205.31 m^2\n",
      "--------------------------------------------------------------------\n"
     ]
    }
   ],
   "source": [
    "UnivariateModel_Home.print_estimates()"
   ]
  },
  {
   "cell_type": "code",
   "execution_count": 6,
   "metadata": {},
   "outputs": [],
   "source": [
    "#torch.save(UnivariateModel_Home.posterior,f\"parameters/UnivariateModel_Home_matchday2_{HIDDEN_STATES}states.pt\")"
   ]
  },
  {
   "cell_type": "markdown",
   "metadata": {},
   "source": [
    "Away Team"
   ]
  },
  {
   "cell_type": "code",
   "execution_count": 7,
   "metadata": {},
   "outputs": [
    {
     "name": "stderr",
     "output_type": "stream",
     "text": [
      "100%|██████████| 400/400 [07:45<00:00,  1.16s/it, LOSS=4.67e+3]\n"
     ]
    }
   ],
   "source": [
    "UnivariateModel_Away = UnivariateHMM(hidden_states=HIDDEN_STATES)\n",
    "UnivariateModel_Away.fit(sequence_XY[:,1],TRAINING_STEPS)"
   ]
  },
  {
   "cell_type": "code",
   "execution_count": 8,
   "metadata": {},
   "outputs": [
    {
     "name": "stdout",
     "output_type": "stream",
     "text": [
      "--------------------------------------------------------------------\n",
      "STATE 0:\n",
      ">> Mean of the Convex Hull : 1187.72 m^2\n",
      ">> Std of the Convex Hull  : 358.56 m^2\n",
      "--------------------------------------------------------------------\n",
      "STATE 1:\n",
      ">> Mean of the Convex Hull : 659.48 m^2\n",
      ">> Std of the Convex Hull  : 224.34 m^2\n",
      "--------------------------------------------------------------------\n"
     ]
    }
   ],
   "source": [
    "UnivariateModel_Away.print_estimates()"
   ]
  },
  {
   "cell_type": "code",
   "execution_count": 9,
   "metadata": {},
   "outputs": [],
   "source": [
    "#torch.save(UnivariateModel_Away.posterior,f\"parameters/UnivariateModel_Away_matchday2_{HIDDEN_STATES}states.pt\")"
   ]
  },
  {
   "cell_type": "markdown",
   "metadata": {},
   "source": [
    "## Bivariate copula model"
   ]
  },
  {
   "cell_type": "code",
   "execution_count": null,
   "metadata": {},
   "outputs": [],
   "source": [
    "CopulaModel = CopulaHMM(hidden_states=HIDDEN_STATES)\n",
    "CopulaModel.fit(sequence_XY, training_steps=TRAINING_STEPS)"
   ]
  },
  {
   "cell_type": "code",
   "execution_count": 7,
   "metadata": {},
   "outputs": [
    {
     "name": "stdout",
     "output_type": "stream",
     "text": [
      "--------------------------------------------------------------------\n",
      "STATE 0:\n",
      ">> Mean of the Convex Hull for home team : 770.09 m^2\n",
      ">> Std of the Convex Hull for home team  : 306.16 m^2\n",
      ">> Mean of the Convex Hull for away team : 1177.40 m^2\n",
      ">> Std of the Convex Hull for away team  : 249.30 m^2\n",
      "--------------------------------------------------------------------\n",
      "STATE 1:\n",
      ">> Mean of the Convex Hull for home team : 977.15 m^2\n",
      ">> Std of the Convex Hull for home team  : 270.85 m^2\n",
      ">> Mean of the Convex Hull for away team : 663.76 m^2\n",
      ">> Std of the Convex Hull for away team  : 200.80 m^2\n",
      "--------------------------------------------------------------------\n"
     ]
    }
   ],
   "source": [
    "CopulaModel.print_estimates()"
   ]
  },
  {
   "cell_type": "code",
   "execution_count": null,
   "metadata": {},
   "outputs": [],
   "source": [
    "#torch.save(CopulaModel.posterior,f\"parameters/CopulaHMM_matchday2_{HIDDEN_STATES}states.pt\")"
   ]
  }
 ],
 "metadata": {
  "kernelspec": {
   "display_name": "dl",
   "language": "python",
   "name": "python3"
  },
  "language_info": {
   "codemirror_mode": {
    "name": "ipython",
    "version": 3
   },
   "file_extension": ".py",
   "mimetype": "text/x-python",
   "name": "python",
   "nbconvert_exporter": "python",
   "pygments_lexer": "ipython3",
   "version": "3.12.3"
  }
 },
 "nbformat": 4,
 "nbformat_minor": 2
}
